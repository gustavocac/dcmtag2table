{
 "cells": [
  {
   "cell_type": "code",
   "execution_count": 1,
   "metadata": {},
   "outputs": [],
   "source": [
    "from dcmtag2table import dcmtag2table"
   ]
  },
  {
   "cell_type": "code",
   "execution_count": 2,
   "metadata": {},
   "outputs": [
    {
     "name": "stdout",
     "output_type": "stream",
     "text": [
      "Listing all files...\n",
      "Time: 0.08286023139953613\n",
      "Reading files...\n"
     ]
    },
    {
     "name": "stderr",
     "output_type": "stream",
     "text": [
      "100%|██████████| 7143/7143 [00:06<00:00, 1170.33it/s]\n"
     ]
    },
    {
     "name": "stdout",
     "output_type": "stream",
     "text": [
      "Finished.\n"
     ]
    }
   ],
   "source": [
    "list_of_tags = [\n",
    "                \"PatientID\",\n",
    "                \"StudyInstanceUID\",\n",
    "                \"SeriesInstanceUID\",\n",
    "                \"SOPInstanceUID\"\n",
    "                ]\n",
    "\n",
    "folder = \"/media/felipe/easystore/Datasets/RSNA2019/mdai/epm/mdai_rsna_project_PVq9aqJe_images_2019-07-29-154909_part04of13/\"\n",
    "\n",
    "df = dcmtag2table(folder, list_of_tags)"
   ]
  },
  {
   "cell_type": "code",
   "execution_count": 3,
   "metadata": {},
   "outputs": [
    {
     "data": {
      "text/html": [
       "<div>\n",
       "<style scoped>\n",
       "    .dataframe tbody tr th:only-of-type {\n",
       "        vertical-align: middle;\n",
       "    }\n",
       "\n",
       "    .dataframe tbody tr th {\n",
       "        vertical-align: top;\n",
       "    }\n",
       "\n",
       "    .dataframe thead th {\n",
       "        text-align: right;\n",
       "    }\n",
       "</style>\n",
       "<table border=\"1\" class=\"dataframe\">\n",
       "  <thead>\n",
       "    <tr style=\"text-align: right;\">\n",
       "      <th></th>\n",
       "      <th>Filename</th>\n",
       "      <th>PatientID</th>\n",
       "      <th>SOPInstanceUID</th>\n",
       "      <th>SeriesInstanceUID</th>\n",
       "      <th>StudyInstanceUID</th>\n",
       "    </tr>\n",
       "  </thead>\n",
       "  <tbody>\n",
       "    <tr>\n",
       "      <th>0</th>\n",
       "      <td>/media/felipe/easystore/Datasets/RSNA2019/mdai...</td>\n",
       "      <td>10000000000014</td>\n",
       "      <td>10000000000467</td>\n",
       "      <td>10000000000014</td>\n",
       "      <td>10000000000014</td>\n",
       "    </tr>\n",
       "    <tr>\n",
       "      <th>1</th>\n",
       "      <td>/media/felipe/easystore/Datasets/RSNA2019/mdai...</td>\n",
       "      <td>10000000000014</td>\n",
       "      <td>10000000000468</td>\n",
       "      <td>10000000000014</td>\n",
       "      <td>10000000000014</td>\n",
       "    </tr>\n",
       "    <tr>\n",
       "      <th>2</th>\n",
       "      <td>/media/felipe/easystore/Datasets/RSNA2019/mdai...</td>\n",
       "      <td>10000000000014</td>\n",
       "      <td>10000000000469</td>\n",
       "      <td>10000000000014</td>\n",
       "      <td>10000000000014</td>\n",
       "    </tr>\n",
       "    <tr>\n",
       "      <th>3</th>\n",
       "      <td>/media/felipe/easystore/Datasets/RSNA2019/mdai...</td>\n",
       "      <td>10000000000014</td>\n",
       "      <td>10000000000470</td>\n",
       "      <td>10000000000014</td>\n",
       "      <td>10000000000014</td>\n",
       "    </tr>\n",
       "    <tr>\n",
       "      <th>4</th>\n",
       "      <td>/media/felipe/easystore/Datasets/RSNA2019/mdai...</td>\n",
       "      <td>10000000000014</td>\n",
       "      <td>10000000000471</td>\n",
       "      <td>10000000000014</td>\n",
       "      <td>10000000000014</td>\n",
       "    </tr>\n",
       "  </tbody>\n",
       "</table>\n",
       "</div>"
      ],
      "text/plain": [
       "                                            Filename       ...        StudyInstanceUID\n",
       "0  /media/felipe/easystore/Datasets/RSNA2019/mdai...       ...          10000000000014\n",
       "1  /media/felipe/easystore/Datasets/RSNA2019/mdai...       ...          10000000000014\n",
       "2  /media/felipe/easystore/Datasets/RSNA2019/mdai...       ...          10000000000014\n",
       "3  /media/felipe/easystore/Datasets/RSNA2019/mdai...       ...          10000000000014\n",
       "4  /media/felipe/easystore/Datasets/RSNA2019/mdai...       ...          10000000000014\n",
       "\n",
       "[5 rows x 5 columns]"
      ]
     },
     "execution_count": 3,
     "metadata": {},
     "output_type": "execute_result"
    }
   ],
   "source": [
    "df.head()"
   ]
  },
  {
   "cell_type": "code",
   "execution_count": null,
   "metadata": {},
   "outputs": [],
   "source": []
  }
 ],
 "metadata": {
  "kernelspec": {
   "display_name": "Python [conda env:p35]",
   "language": "python",
   "name": "conda-env-p35-py"
  },
  "language_info": {
   "codemirror_mode": {
    "name": "ipython",
    "version": 3
   },
   "file_extension": ".py",
   "mimetype": "text/x-python",
   "name": "python",
   "nbconvert_exporter": "python",
   "pygments_lexer": "ipython3",
   "version": "3.5.4"
  }
 },
 "nbformat": 4,
 "nbformat_minor": 2
}
